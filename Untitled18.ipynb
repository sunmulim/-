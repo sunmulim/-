{
  "nbformat": 4,
  "nbformat_minor": 0,
  "metadata": {
    "colab": {
      "private_outputs": true,
      "provenance": [],
      "authorship_tag": "ABX9TyMLMsr5oqSX1G6cKw8Q7q9f",
      "include_colab_link": true
    },
    "kernelspec": {
      "name": "python3",
      "display_name": "Python 3"
    },
    "language_info": {
      "name": "python"
    }
  },
  "cells": [
    {
      "cell_type": "markdown",
      "metadata": {
        "id": "view-in-github",
        "colab_type": "text"
      },
      "source": [
        "<a href=\"https://colab.research.google.com/github/sunmulim/-/blob/main/Untitled18.ipynb\" target=\"_parent\"><img src=\"https://colab.research.google.com/assets/colab-badge.svg\" alt=\"Open In Colab\"/></a>"
      ]
    },
    {
      "cell_type": "markdown",
      "source": [
        "RNN\n",
        "가중치를 반복해 사용하는 시계열 데이터를 다루는 모델. 시계열은 시간의 순서도 포함된 데이터를 의미.\n",
        "\n",
        "최대-최소 정규화\n",
        " 최댓값이 1이 되도록 값의 범위를 바꿔주는 기법으로 이상치가 없는 데이터에 사용할 수 있음.\n",
        " RNN은 순차적인 데이터 예를들어 문장이나 시계열 데이터를 처리하는 데 특화되어 있음\n",
        "이전 데이터를 기억하면서 다음 데이터를 예측하거나 분류할 수 있음.\n",
        "\n",
        "rnn의 사용\n",
        "자연어 처리: 문장을 이해하거나 번역하는데 사용.\n",
        "음성 인식: 음성 데이터를 텍스트로 변환하는 데 사용.\n",
        "주식 예측: 시계열 데이터를 분석해서 주식 가격을 예측하는데 활용.\n",
        "\n",
        "장단점\n",
        "장점: 순차적인 데이터 처리에 특화돼요.\n",
        "      가변적인 입력 시퀀스 길이를 다룰 수 있음\n",
        "      파라미터 공유로 모델 크기를 줄일 수 있음\n",
        "단점:기울기 소실 또는 기울기 폭발 문제가 있을 수 있음"
      ],
      "metadata": {
        "id": "Lt18GQA6ya2-"
      }
    },
    {
      "cell_type": "code",
      "execution_count": null,
      "metadata": {
        "id": "qXUfCu2sNoP_"
      },
      "outputs": [],
      "source": [
        "import pandas as pd\n",
        "data = pd.read_csv(\"/content/drive/MyDrive/Colab Notebooks/data/CH06.csv\")\n",
        "data.head()"
      ]
    },
    {
      "cell_type": "code",
      "source": [
        "import matplotlib.pyplot as plt\n",
        "data_used = data.iloc[:, 1:4]#데이터추가\n",
        "data_used[\"Close\"] = data[\"Close\"]\n",
        "hist = data_used.hist()\n",
        "plt.show()"
      ],
      "metadata": {
        "id": "n_mk4wLEI4QY"
      },
      "execution_count": null,
      "outputs": []
    },
    {
      "cell_type": "code",
      "source": [
        "import numpy as np\n",
        "from torch.utils.data.dataset import Dataset\n",
        "class Netflix(Dataset):\n",
        "    def __init__(self):\n",
        "        self.csv = pd.read_csv(\n",
        "                    \"/content/drive/MyDrive/Colab Notebooks/data/CH06.csv\")\n",
        "        self.data= self.csv.lioc[:,1:4].values\n",
        "        self.data = self.data / np.max(self.data)#0~1로 정규화\n",
        "\n",
        "        self.label = data[\"close\"].values\n",
        "        self.label = self.label / np.max(self.lable)"
      ],
      "metadata": {
        "id": "cvih_wfZJ8sI"
      },
      "execution_count": null,
      "outputs": []
    },
    {
      "cell_type": "code",
      "source": [
        "def __len__(self):\n",
        "    return len(self.data) - 30 #사용가능배치개수"
      ],
      "metadata": {
        "id": "PvWKOGa1L9La"
      },
      "execution_count": null,
      "outputs": []
    },
    {
      "cell_type": "code",
      "source": [
        "def __getitem__(self, i):\n",
        "    data = self.data[i:i+30]#입려데이터 30일치 읽음\n",
        "    label = self.label[i+30]#종가데이터 30일치 읽음\n",
        "\n",
        "    return data, label"
      ],
      "metadata": {
        "id": "xLTV9us9MzM5"
      },
      "execution_count": null,
      "outputs": []
    },
    {
      "cell_type": "code",
      "source": [
        "import torch\n",
        "import torch.nn as nn\n",
        "class RNN(nn.Module):\n",
        "    def __init__(self):\n",
        "        super(RNN, self).__init__()\n",
        "\n",
        "        self.rnn(input_size=3, hidden_size=8, num_layers=5,\n",
        "                batch_first=True)#rnn층 정의\n",
        "\n",
        "        self.fc1 = nn.Linear(in_features=240, out_features=64)\n",
        "        self.fc2 = nn.Linear(in_features=64, out_features=1) #MLP층 정의\n",
        "        self.relu = nn.ReLU()#활성화함수 정의\n",
        ""
      ],
      "metadata": {
        "id": "qiiAwxu0Nh0T"
      },
      "execution_count": null,
      "outputs": []
    },
    {
      "cell_type": "code",
      "source": [
        "def forward(self, x, h0):\n",
        "    x,hn = self.rnn(x,h0)#RNN층 출력\n",
        "\n",
        "    #MLP층을 이용해 종가예촉\n",
        "    x = self.fc1(x)\n",
        "    x = self.relu(x)\n",
        "    x = self.fc2(x)\n",
        "    #예측한 종가를 1차원 백터로 표현\n",
        "    x = torch.flatten(x)\n",
        "    return(x)"
      ],
      "metadata": {
        "id": "xHtMErpfPsEz"
      },
      "execution_count": null,
      "outputs": []
    },
    {
      "cell_type": "code",
      "source": [
        "import tqdm\n",
        "from torch.optim.adam import Adam\n",
        "from torch.utils.data.dataloader import DataLoader\n",
        "device = \"cuda\" if torch.cuda.is_avilable() else \"cpu\"\n",
        "model = RNN().to(device) #모델정의\n",
        "dataset = Netflix()      #데이터셋정의"
      ],
      "metadata": {
        "id": "GabT-M2wQzn4"
      },
      "execution_count": null,
      "outputs": []
    },
    {
      "cell_type": "code",
      "source": [
        "loader = DataLoader(dataset, batch_size=32)#배치크기 32로 설정\n",
        "optim = Adam(params=model.parameters(), lr=0.0001)#최적화 설정\n",
        "\n",
        "for epoch in range (200):\n",
        "    iterator = tqdm.tqdm(loader)\n",
        "    for data, label in iterator:\n",
        "        optim.zero_grad()\n",
        "\n",
        "        #초기 은닉 상태\n",
        "        h0 = torch.zeros(5. data.shape[0], 8). to(device)\n",
        "        #모델의 예측값\n",
        "        pred = modeldata. type(torch.FloatTensor). to(device)\n",
        "        #손실의 계산\n",
        "        loss = nn.MSELoss()(pred,\n",
        "                            label.type(torch.FloatTensor).to(device))\n",
        "        loss.backward #오차 역전파\n",
        "        optim.step()  #최적화 진행\n",
        "\n",
        "        iterator.set_description(f\"epoch{epoch} loss:{loss.item}\")\n",
        "torch.save(model.state_dict(), \"./rnn.pth\")#모델저장"
      ],
      "metadata": {
        "id": "Avw8ovgVSHNV"
      },
      "execution_count": null,
      "outputs": []
    }
  ]
}