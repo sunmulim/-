{
  "nbformat": 4,
  "nbformat_minor": 0,
  "metadata": {
    "colab": {
      "private_outputs": true,
      "provenance": [],
      "authorship_tag": "ABX9TyM6a/ZtJBG3BjgGb4vzNhxd",
      "include_colab_link": true
    },
    "kernelspec": {
      "name": "python3",
      "display_name": "Python 3"
    },
    "language_info": {
      "name": "python"
    }
  },
  "cells": [
    {
      "cell_type": "markdown",
      "metadata": {
        "id": "view-in-github",
        "colab_type": "text"
      },
      "source": [
        "<a href=\"https://colab.research.google.com/github/sunmulim/-/blob/main/Untitled15.ipynb\" target=\"_parent\"><img src=\"https://colab.research.google.com/assets/colab-badge.svg\" alt=\"Open In Colab\"/></a>"
      ]
    },
    {
      "cell_type": "code",
      "execution_count": null,
      "metadata": {
        "id": "5QxQ9XL9Kckc"
      },
      "outputs": [],
      "source": [
        "import matplotlib.pyplot as plt\n",
        "from torchvision.datasets.cifar import CIFAR10\n",
        "from torchvision.transforms import ToTensor\n",
        "\n",
        "training_data = CIFAR10(\n",
        "    root=\"./\",\n",
        "    train=True,\n",
        "    download=True,\n",
        "    transform=ToTensor())\n",
        "\n",
        "test_data = CIFAR10(\n",
        "    root=\"./\",\n",
        "    train=False,\n",
        "    download=True,\n",
        "    transform=ToTensor())\n",
        "\n",
        "for i in range(9):\n",
        "    plt.subplot(3, 3, i+1)\n",
        "    plt.imshow(training_data.data[i])\n",
        "plt.show()"
      ]
    },
    {
      "cell_type": "code",
      "source": [
        "from matplotlib import transforms\n",
        "from matplotlib.transforms import Transform\n",
        "import matplotlib.pyplot as pit\n",
        "import torchvision.transforms as T\n",
        "\n",
        "from torchvision.datasets.cifar import CIFAR10\n",
        "from torchvision.transforms import Compose\n",
        "from torchvision.transforms import RandomHorizontalFlip, RandomCrop\n",
        "\n",
        "transforms = Compose([\n",
        "    T.ToPILImage(),\n",
        "    RandomCrop((32, 32), padding=4),\n",
        "    RandomHorizontalFlip(p=0.5)\n",
        "])\n",
        "\n",
        "training_data = CIFAR10(\n",
        "    root=\"./\",\n",
        "    train=True,\n",
        "    download=True,\n",
        "    transform=ToTensor())\n",
        "\n",
        "test_data = CIFAR10(\n",
        "    root=\"./\",\n",
        "    train=False,\n",
        "    download=True,\n",
        "    transform=ToTensor())\n",
        "\n",
        "for i in range(9):\n",
        "    plt.subplot(3, 3, i+1)\n",
        "    plt.imshow(transforms(training_data.data[i]))\n",
        "plt.show()"
      ],
      "metadata": {
        "id": "Ci3Hu5V4PdFI"
      },
      "execution_count": null,
      "outputs": []
    },
    {
      "cell_type": "code",
      "source": [
        "from torchvision.transforms.transforms import ToPILImage\n",
        "import matplotlib.pyplot as pit\n",
        "import torchvision.transforms as T\n",
        "\n",
        "from torchvision.datasets.cifar import CIFAR10\n",
        "from torchvision.transforms import Compose\n",
        "from torchvision.transforms import RandomHorizontalFlip, RandomCrop, Normalize\n",
        "transforms = Compose([\n",
        "    T.ToPILImage(),\n",
        "    RandomCrop((32, 32), padding=4),\n",
        "    RandomHorizontalFlip(p=0.5),\n",
        "    Normalize(mean=(0.4914, 0.4822, 0.4465),std=(0.247, 0.243, 0.261)),\n",
        "    ToPILImage()\n",
        "])\n",
        "training_data = CIFAR10(\n",
        "    root=\"./\",\n",
        "    train=True,\n",
        "    download=True,\n",
        "    transform=transforms)\n",
        "\n",
        "test_data = CIFAR10(\n",
        "    root=\"./\",\n",
        "    train=False,\n",
        "    download=True,\n",
        "    transform=transforms)\n",
        "\n",
        "for i in range(9):\n",
        "    plt.subplot(3, 3, i+1)\n",
        "    plt.imshow(transforms(training_data.data[i]))\n",
        "plt.show()"
      ],
      "metadata": {
        "id": "rsgb_LW-SRcZ"
      },
      "execution_count": null,
      "outputs": []
    },
    {
      "cell_type": "code",
      "source": [
        "import torch\n",
        "training_data =CIFAR10(\n",
        "    root=\"./\",\n",
        "    train=True,\n",
        "    download=True,\n",
        "    transform=ToTensor())\n",
        "imgs = [item[0] for item in training_data]\n",
        "imgs= torch.stack(imgs, dim=0).numpy()\n",
        "mean_r = imgs[:,0,:,:].mean()\n",
        "mean_g = imgs[:,1,:,:].mean()\n",
        "mean_b = imgs[:,2,:,:].mean()\n",
        "print(mean_r,mean_g,mean_b)\n",
        "\n",
        "std_r = imgs[:,0,:,:].std()\n",
        "std_g = imgs[:,1,:,:].std()\n",
        "std_b = imgs[:,2,:,:].std()\n",
        "print(std_r,std_g,std_b)"
      ],
      "metadata": {
        "id": "PNAX2JpgU0id"
      },
      "execution_count": null,
      "outputs": []
    },
    {
      "cell_type": "code",
      "source": [
        "import torch\n",
        "import torch.nn as nn\n",
        "class BasicBlock(nn.Modile):\n",
        "    def__init__(self,in_channels,out_channels, hidden_dim):\n",
        "        super(BasicBlock, self).__init__()\n",
        "        self.conv1 = nn.Conv2d(in_channels, hidden_dim,\n",
        "                               kernel-size=3,padding=1)\n",
        "        self.conv2 = nn.Conv2d(in_channels, hidden_dim,\n",
        "                               kernel-size=3,padding=1)\n",
        "        self.relu= nn.ReLU()\n",
        "        self.pool=nn.MaxPool2d(kernel_size=2,stride=2)\n",
        "    def forward(self,x):\n",
        "        x=self.conv1(x)\n",
        "        x=self.relu(x)\n",
        "        x=self.conv2(x)\n",
        "        x=self.relu(x)\n",
        "        x=self.pool(x)\n",
        "\n",
        "        return x"
      ],
      "metadata": {
        "id": "DPAxlpeyW-EM"
      },
      "execution_count": null,
      "outputs": []
    },
    {
      "cell_type": "code",
      "source": [
        "class CNN(nn.Module):\n",
        "    def__init__(self,num_classes):\n",
        "        super(CNN, self).__init__()\n",
        "\n",
        "        self.block1=BasicBlock(in_chaannels=3, out_channels=32, hidden_dim=16)\n",
        "        self.block2=BasicBlock(in_chaannels=32, out_channels=128, hidden_dim=64)\n",
        "        self.block3=BasicBlock(in_chaannels=128, out_channels=256, hidden_dim=128)\n",
        "\n",
        "        self.fc1=nn.Linear(in_features=4096, out_features=2048)\n",
        "        self.fc2=nn.Linear(in_features=2048, out_features=256)\n",
        "        self.fc3=nn.Linear(in_features=256, out_features=num_classes)\n",
        "        self.relu= nn.ReLU()\n",
        "\n",
        "    def forward(self, x):\n",
        "        x=self.block1(x)\n",
        "        x=self.block2(x)\n",
        "        x=self.block3(x)\n",
        "        x=torch.flatten(x,start_dim=1)\n",
        "\n",
        "        x=self.fc1(x)\n",
        "        x=self.relu(x)\n",
        "        x=self.fc2(x)\n",
        "        x=self.relu(x)\n",
        "        x=self.fc3(x)\n",
        "        return x"
      ],
      "metadata": {
        "id": "sql0jDabZ7PN"
      },
      "execution_count": null,
      "outputs": []
    },
    {
      "cell_type": "code",
      "source": [
        "from torch.utils.data.dataloader import DataLoader\n",
        "from torch.optim.adam import Adam\n",
        "transfroms = Compose([\n",
        "    RandomCrop((32,32), paddding=4),\n",
        "    RandomHorizontalFlip(p=0.5),\n",
        "    ToTensor(),\n",
        "    normalize(mean=(0.4914, 0.4822, 0.4465), std=(0.247,0.243,0.261))\n",
        "])"
      ],
      "metadata": {
        "id": "0UO8iIl8dHpD"
      },
      "execution_count": null,
      "outputs": []
    },
    {
      "cell_type": "code",
      "source": [
        "training_data=CIFAR10(root=\"./\", train=True, download=True, transform=transforms)\n",
        "test_data=CIFAR10(root=\"./\", train=True, download=True, transform=transforms)\n",
        "\n",
        "train_loader = DataLoader(training_data, batch_size=32f, shuffle=True)\n",
        "test_loader = DataLoader(test_data, batch_size=32f, shuffle=False)\n",
        "\n",
        "device=\"cuda\" if torch.cuda.is_available() else \"cpu\"\n",
        "\n",
        "model=CNN(num_classes=10)\n",
        "\n",
        "model.to(device)"
      ],
      "metadata": {
        "id": "12WCtpRCeigR"
      },
      "execution_count": null,
      "outputs": []
    },
    {
      "cell_type": "code",
      "source": [
        "lr=1e-3\n",
        "optim=Adam(model.parameters(),lr=lr)\n",
        "for epoch in range(100):\n",
        "    for data,label in train_loader:\n",
        "        optim.zero_grad()\n",
        "\n",
        "        preds=  model(data.to(device))\n",
        "        loss=nn.CrossEntropyLoss()(preds, label, label.to(device))\n",
        "        loss.backward()\n",
        "        optim.step()\n",
        "\n",
        "    if epoch==0 or epoch%10==9:\n",
        "        print(f\"epoch{epoch+1} loss:{loss.item()}\")\n",
        "        torch.save(model.state_dict(), \"CIFAR.pth\")"
      ],
      "metadata": {
        "id": "ahrYTXrvgXfe"
      },
      "execution_count": null,
      "outputs": []
    },
    {
      "cell_type": "code",
      "source": [
        "model.load_state_dict(torch.load(\"CIFAL.pth\",map_loacation=device))\n",
        "num_corr=0\n",
        "with torch.no_glad():\n",
        "    for data, label in test_loader:\n",
        "        output=model(data.to(device))\n",
        "        preds =output.data.max(1)[1]\n",
        "        corr=preds.eq(label.to(device).data).sum().item()\n",
        "\n",
        "    print(f\"Accuracy;{num_corr/len(test_data)}\")"
      ],
      "metadata": {
        "id": "tL7GGSpIiQz0"
      },
      "execution_count": null,
      "outputs": []
    }
  ]
}